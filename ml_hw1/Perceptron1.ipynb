{
 "cells": [
  {
   "cell_type": "markdown",
   "metadata": {},
   "source": [
    "# CSCI-UA 0473 - Introduction to Machine Learning\n",
    "## Wednesday, February 1, 2017"
   ]
  },
  {
   "cell_type": "markdown",
   "metadata": {},
   "source": [
    "SURVEY:\n",
    "1) Python\n",
    "2) Numpy/sklearn\n",
    "3) IPython Notebooks"
   ]
  },
  {
   "cell_type": "markdown",
   "metadata": {},
   "source": [
    "## Perceptron\n",
    "### Key Points\n",
    "SETUP: We have a set of data points $\\{(x_{1}, y_{1}), (x_{2}, y_{2}), ... , (x_{n}, y_{n})\\}$, where $x_{i} \\in R^{d}$ are the feature vectors and $y_{i} \\in \\{0, 1\\}$ are the class labels.\n",
    "\n",
    "MODEL: $\\hat{y} = sign(w.x + b)$, where $w, b \\in R^{d}$\n",
    "\n",
    "DISTANCE FUNCTION: -$(y - \\hat{y}) * (w.x + b)$\n",
    "\n",
    "LEARNING RULE: $w \\leftarrow w + \\eta * (y - \\hat{y}) * x$"
   ]
  },
  {
   "cell_type": "code",
   "execution_count": 106,
   "metadata": {
    "collapsed": true
   },
   "outputs": [],
   "source": [
    "# Loading the required libraries\n",
    "\n",
    "%matplotlib inline \n",
    "\n",
    "import numpy\n",
    "import matplotlib.pyplot as plot\n",
    "\n",
    "import matplotlib\n",
    "#matplotlib.rc('text', usetex=True)"
   ]
  },
  {
   "cell_type": "code",
   "execution_count": 127,
   "metadata": {
    "collapsed": true
   },
   "outputs": [],
   "source": [
    "# Setting a random seed\n",
    "numpy.random.seed(1234)"
   ]
  },
  {
   "cell_type": "markdown",
   "metadata": {},
   "source": [
    "## 1. Data Preparation"
   ]
  },
  {
   "cell_type": "code",
   "execution_count": 108,
   "metadata": {
    "collapsed": false
   },
   "outputs": [],
   "source": [
    "# Sample dataset preparation\n",
    "\n",
    "from sklearn.datasets import make_blobs\n",
    "n_dim = 2\n",
    "x_train, y_train = make_blobs(n_samples=100, n_features=n_dim, centers=[[1,1],[-1,-1]], shuffle=True)\n",
    "x_test, y_test = make_blobs(n_samples=100, n_features=n_dim, centers=[[1,1],[-1,-1]], shuffle=True)"
   ]
  },
  {
   "cell_type": "code",
   "execution_count": 109,
   "metadata": {
    "collapsed": true
   },
   "outputs": [],
   "source": [
    "# Visualize data \n",
    "def vis_data(x, y, c='r', open_figure=False):\n",
    "    if open_figure:\n",
    "        plot.figure()\n",
    "    plot.hold('on')\n",
    "    for x_, y_ in zip(x, y):\n",
    "        plot.plot(x_[0], x_[1], c+'o' if y_ == 0 else c+'+')\n",
    "    plot.hold('off')\n",
    "    plot.grid('on')\n",
    "    plot.title('giwengieb')\n",
    "    plot.show()"
   ]
  },
  {
   "cell_type": "code",
   "execution_count": 110,
   "metadata": {
    "collapsed": false
   },
   "outputs": [
    {
     "data": {
      "image/png": "[encoded data removed]",
      "text/plain": [
       "<matplotlib.figure.Figure at 0x7f1b54e11410>"
      ]
     },
     "metadata": {},
     "output_type": "display_data"
    }
   ],
   "source": [
    "# Visualize TRAINING data\n",
    "vis_data(x_train, y_train, open_figure=True)"
   ]
  },
  {
   "cell_type": "code",
   "execution_count": 111,
   "metadata": {
    "collapsed": false
   },
   "outputs": [
    {
     "data": {
      "image/png": "[encoded data removed]",
      "text/plain": [
       "<matplotlib.figure.Figure at 0x7f1b51f59210>"
      ]
     },
     "metadata": {},
     "output_type": "display_data"
    }
   ],
   "source": [
    "# Visualize TEST data\n",
    "vis_data(x_test, y_test, open_figure=True)"
   ]
  },
  {
   "cell_type": "markdown",
   "metadata": {},
   "source": [
    "## 2. Model Definition"
   ]
  },
  {
   "cell_type": "code",
   "execution_count": 112,
   "metadata": {
    "collapsed": true
   },
   "outputs": [],
   "source": [
    "'''\n",
    "Basic functionality of the perceptron model.\n",
    "\n",
    "INPUT: Feature vector (x) and a weight vector (w)\n",
    "OUTPUT: Returns the sign of w.x or the value of w.x\n",
    "'''\n",
    "\n",
    "def perceptron(x, w, pre=False):\n",
    "    def sign(y):\n",
    "        return numpy.maximum(0., numpy.sign(y))\n",
    "    \n",
    "    x = x.reshape([1, -1]) if len(x.shape) < 2 else x\n",
    "    \n",
    "    y = numpy.sum(x * w[None,:-1], axis=1) + w[-1]\n",
    "    if pre:\n",
    "        return y    \n",
    "    return sign(y)"
   ]
  },
  {
   "cell_type": "code",
   "execution_count": 113,
   "metadata": {
    "collapsed": true
   },
   "outputs": [],
   "source": [
    "'''\n",
    "Distance function for the perceptron model.\n",
    "\n",
    "INPUT: True labels of data points, feature vectors of data points and a weight vector\n",
    "OUTPUT: Value of the distance for each data point or the average distance\n",
    "'''\n",
    "\n",
    "def perceptron_dist(y, x, w, avg=False):\n",
    "    y_ = perceptron(x, w)\n",
    "    d = -(y - y_) * perceptron(x, w, pre=True)\n",
    "    if not avg:\n",
    "        return d\n",
    "    return numpy.mean(d)"
   ]
  },
  {
   "cell_type": "code",
   "execution_count": 114,
   "metadata": {
    "collapsed": true
   },
   "outputs": [],
   "source": [
    "'''\n",
    "Learning rule for the perceptron model.\n",
    "\n",
    "INPUT: True labels of data points, feature vectors of data points and a weight vector\n",
    "OUTPUT: Update direction for the weight vector\n",
    "'''\n",
    "\n",
    "def perceptron_rule(y, x, w):\n",
    "    y_ = perceptron(x, w)\n",
    "    dw = numpy.zeros(w.shape)\n",
    "    dw[:-1] = numpy.mean((y - y_)[:, None] * x, axis=0)\n",
    "    dw[-1] = numpy.mean(y - y_)\n",
    "    return dw"
   ]
  },
  {
   "cell_type": "markdown",
   "metadata": {},
   "source": [
    "## 3. Learning Process"
   ]
  },
  {
   "cell_type": "code",
   "execution_count": 115,
   "metadata": {
    "collapsed": false,
    "scrolled": true
   },
   "outputs": [
    {
     "name": "stdout",
     "output_type": "stream",
     "text": [
      "Perceptron cost 0.111896683664 after iteration 0\n",
      "Perceptron cost 0.0916175637931 after iteration 1\n",
      "Perceptron cost 0.0785364930516 after iteration 2\n",
      "Perceptron cost 0.0713160301485 after iteration 3\n",
      "Perceptron cost 0.0656768035291 after iteration 4\n",
      "Perceptron cost 0.0601375428795 after iteration 5\n",
      "Perceptron cost 0.0556196487196 after iteration 6\n",
      "Perceptron cost 0.0513837317683 after iteration 7\n",
      "Perceptron cost 0.0471478148169 after iteration 8\n",
      "Perceptron cost 0.0429118978655 after iteration 9\n",
      "Perceptron cost 0.0386759809141 after iteration 10\n",
      "Perceptron cost 0.0344533973983 after iteration 11\n",
      "Perceptron cost 0.0311141923425 after iteration 12\n",
      "Perceptron cost 0.0288950723854 after iteration 13\n",
      "Perceptron cost 0.0267529596414 after iteration 14\n",
      "Perceptron cost 0.0251495283097 after iteration 15\n",
      "Perceptron cost 0.023546096978 after iteration 16\n",
      "Perceptron cost 0.0219426656463 after iteration 17\n",
      "Perceptron cost 0.0203392343146 after iteration 18\n",
      "Perceptron cost 0.0187358029829 after iteration 19\n",
      "Perceptron cost 0.0171813300466 after iteration 20\n",
      "Perceptron cost 0.0160592899036 after iteration 21\n",
      "Perceptron cost 0.0151226126963 after iteration 22\n",
      "Perceptron cost 0.0143336419251 after iteration 23\n",
      "Perceptron cost 0.0135446711539 after iteration 24\n",
      "Perceptron cost 0.0127557003827 after iteration 25\n",
      "Perceptron cost 0.0120403916104 after iteration 26\n",
      "Perceptron cost 0.0116319914729 after iteration 27\n",
      "Perceptron cost 0.0112235913354 after iteration 28\n",
      "Perceptron cost 0.010815191198 after iteration 29\n",
      "Perceptron cost 0.0104261916237 after iteration 30\n",
      "Perceptron cost 0.0100600406906 after iteration 31\n",
      "Perceptron cost 0.00969388975744 after iteration 32\n",
      "Perceptron cost 0.00932773882432 after iteration 33\n",
      "Perceptron cost 0.0089615878912 after iteration 34\n",
      "Perceptron cost 0.00859543695808 after iteration 35\n",
      "Perceptron cost 0.00826071874196 after iteration 36\n",
      "Perceptron cost 0.00801341075983 after iteration 37\n",
      "Perceptron cost 0.00780634367302 after iteration 38\n",
      "Perceptron cost 0.00759927658621 after iteration 39\n",
      "Perceptron cost 0.0073922094994 after iteration 40\n",
      "Perceptron cost 0.00718514241259 after iteration 41\n",
      "Perceptron cost 0.00697807532578 after iteration 42\n",
      "Perceptron cost 0.00677100823897 after iteration 43\n",
      "Perceptron cost 0.00656394115216 after iteration 44\n",
      "Perceptron cost 0.00635687406535 after iteration 45\n",
      "Perceptron cost 0.00614980697854 after iteration 46\n",
      "Perceptron cost 0.00594273989173 after iteration 47\n",
      "Perceptron cost 0.00573567280492 after iteration 48\n",
      "Perceptron cost 0.00552860571811 after iteration 49\n",
      "Perceptron cost 0.0053215386313 after iteration 50\n",
      "Perceptron cost 0.00522425321282 after iteration 51\n",
      "Perceptron cost 0.00515281624579 after iteration 52\n",
      "Perceptron cost 0.00508137927877 after iteration 53\n",
      "Perceptron cost 0.00500994231174 after iteration 54\n",
      "Perceptron cost 0.00493850534472 after iteration 55\n",
      "Perceptron cost 0.00486706837769 after iteration 56\n",
      "Perceptron cost 0.00479563141067 after iteration 57\n",
      "Perceptron cost 0.00472419444365 after iteration 58\n",
      "Perceptron cost 0.00465275747662 after iteration 59\n",
      "Perceptron cost 0.0045813205096 after iteration 60\n",
      "Perceptron cost 0.00450988354257 after iteration 61\n",
      "Perceptron cost 0.00443844657555 after iteration 62\n",
      "Perceptron cost 0.00436700960852 after iteration 63\n",
      "Perceptron cost 0.0042955726415 after iteration 64\n",
      "Perceptron cost 0.00422413567447 after iteration 65\n",
      "Perceptron cost 0.00415269870745 after iteration 66\n",
      "Perceptron cost 0.00408126174043 after iteration 67\n",
      "Perceptron cost 0.00401879766798 after iteration 68\n",
      "Perceptron cost 0.00396356110801 after iteration 69\n",
      "Perceptron cost 0.00394299340638 after iteration 70\n",
      "Perceptron cost 0.0039301746516 after iteration 71\n",
      "Perceptron cost 0.00391735589682 after iteration 72\n",
      "Perceptron cost 0.00390453714204 after iteration 73\n",
      "Perceptron cost 0.00389171838726 after iteration 74\n",
      "Perceptron cost 0.00387889963248 after iteration 75\n",
      "Perceptron cost 0.0038660808777 after iteration 76\n",
      "Perceptron cost 0.00385326212292 after iteration 77\n",
      "Perceptron cost 0.00384044336815 after iteration 78\n",
      "Perceptron cost 0.00382762461337 after iteration 79\n",
      "Perceptron cost 0.00381480585859 after iteration 80\n",
      "Perceptron cost 0.00380198710381 after iteration 81\n",
      "Perceptron cost 0.00378933947375 after iteration 82\n",
      "Perceptron cost 0.00377925292617 after iteration 83\n",
      "Perceptron cost 0.00376643417139 after iteration 84\n",
      "Perceptron cost 0.00375361541661 after iteration 85\n",
      "Perceptron cost 0.00374079666184 after iteration 86\n",
      "Perceptron cost 0.00372797790706 after iteration 87\n",
      "Perceptron cost 0.00371515915228 after iteration 88\n",
      "Perceptron cost 0.0037023403975 after iteration 89\n",
      "Perceptron cost 0.00368952164272 after iteration 90\n",
      "Perceptron cost 0.00367670288794 after iteration 91\n",
      "Perceptron cost 0.00366388413316 after iteration 92\n",
      "Perceptron cost 0.00365106537838 after iteration 93\n",
      "Perceptron cost 0.0036382466236 after iteration 94\n",
      "Perceptron cost 0.00362542786882 after iteration 95\n",
      "Perceptron cost 0.00361260911405 after iteration 96\n",
      "Perceptron cost 0.00359979035927 after iteration 97\n",
      "Perceptron cost 0.00358697160449 after iteration 98\n",
      "Perceptron cost 0.00357545614805 after iteration 99\n",
      "Perceptron cost 0.00356423742685 after iteration 100\n",
      "Perceptron cost 0.00355141867207 after iteration 101\n",
      "Perceptron cost 0.00353859991729 after iteration 102\n",
      "Perceptron cost 0.00352578116251 after iteration 103\n",
      "Perceptron cost 0.00351296240774 after iteration 104\n",
      "Perceptron cost 0.00350014365296 after iteration 105\n",
      "Perceptron cost 0.00348732489818 after iteration 106\n",
      "Perceptron cost 0.0034745061434 after iteration 107\n",
      "Perceptron cost 0.00346168738862 after iteration 108\n",
      "Perceptron cost 0.00344886863384 after iteration 109\n",
      "Perceptron cost 0.00343604987906 after iteration 110\n",
      "Perceptron cost 0.00342323112428 after iteration 111\n",
      "Perceptron cost 0.0034104123695 after iteration 112\n",
      "Perceptron cost 0.00339759361472 after iteration 113\n",
      "Perceptron cost 0.00338477485995 after iteration 114\n",
      "Perceptron cost 0.00337195610517 after iteration 115\n",
      "Perceptron cost 0.00336157282235 after iteration 116\n",
      "Perceptron cost 0.00334922192753 after iteration 117\n",
      "Perceptron cost 0.00333640317275 after iteration 118\n",
      "Perceptron cost 0.00332358441797 after iteration 119\n",
      "Perceptron cost 0.00331076566319 after iteration 120\n",
      "Perceptron cost 0.00329794690841 after iteration 121\n",
      "Perceptron cost 0.00328512815364 after iteration 122\n",
      "Perceptron cost 0.00327230939886 after iteration 123\n",
      "Perceptron cost 0.00325949064408 after iteration 124\n",
      "Perceptron cost 0.0032466718893 after iteration 125\n",
      "Perceptron cost 0.00323385313452 after iteration 126\n",
      "Perceptron cost 0.00322103437974 after iteration 127\n",
      "Perceptron cost 0.00320821562496 after iteration 128\n",
      "Perceptron cost 0.00319539687018 after iteration 129\n",
      "Perceptron cost 0.0031825781154 after iteration 130\n",
      "Perceptron cost 0.00316975936063 after iteration 131\n",
      "Perceptron cost 0.00315760491951 after iteration 132\n",
      "Perceptron cost 0.00314702518299 after iteration 133\n",
      "Perceptron cost 0.00313420642821 after iteration 134\n",
      "Perceptron cost 0.00312138767343 after iteration 135\n",
      "Perceptron cost 0.00310856891865 after iteration 136\n",
      "Perceptron cost 0.00309575016387 after iteration 137\n",
      "Perceptron cost 0.00308293140909 after iteration 138\n",
      "Perceptron cost 0.00307011265431 after iteration 139\n",
      "Perceptron cost 0.00305729389954 after iteration 140\n",
      "Perceptron cost 0.00304447514476 after iteration 141\n",
      "Perceptron cost 0.00303165638998 after iteration 142\n",
      "Perceptron cost 0.0030188376352 after iteration 143\n",
      "Perceptron cost 0.00300601888042 after iteration 144\n",
      "Perceptron cost 0.00299320012564 after iteration 145\n",
      "Perceptron cost 0.00298038137086 after iteration 146\n",
      "Perceptron cost 0.00296756261608 after iteration 147\n",
      "Perceptron cost 0.0029547438613 after iteration 148\n",
      "Perceptron cost 0.00294372159381 after iteration 149\n",
      "Perceptron cost 0.00293200968367 after iteration 150\n",
      "Perceptron cost 0.00291919092889 after iteration 151\n",
      "Perceptron cost 0.00290637217411 after iteration 152\n",
      "Perceptron cost 0.00289355341933 after iteration 153\n",
      "Perceptron cost 0.00288073466455 after iteration 154\n",
      "Perceptron cost 0.00286791590977 after iteration 155\n",
      "Perceptron cost 0.00285509715499 after iteration 156\n",
      "Perceptron cost 0.00284227840021 after iteration 157\n",
      "Perceptron cost 0.00282945964544 after iteration 158\n",
      "Perceptron cost 0.00281664089066 after iteration 159\n",
      "Perceptron cost 0.00280382213588 after iteration 160\n",
      "Perceptron cost 0.0027910033811 after iteration 161\n",
      "Perceptron cost 0.00277818462632 after iteration 162\n",
      "Perceptron cost 0.00276536587154 after iteration 163\n",
      "Perceptron cost 0.00275254711676 after iteration 164\n",
      "Perceptron cost 0.00273975369096 after iteration 165\n",
      "Perceptron cost 0.00272981293912 after iteration 166\n",
      "Perceptron cost 0.00271699418435 after iteration 167\n",
      "Perceptron cost 0.00270417542957 after iteration 168\n",
      "Perceptron cost 0.00269135667479 after iteration 169\n",
      "Perceptron cost 0.00267853792001 after iteration 170\n",
      "Perceptron cost 0.00266571916523 after iteration 171\n",
      "Perceptron cost 0.00265290041045 after iteration 172\n",
      "Perceptron cost 0.00264008165567 after iteration 173\n",
      "Perceptron cost 0.00262726290089 after iteration 174\n",
      "Perceptron cost 0.00261444414611 after iteration 175\n",
      "Perceptron cost 0.00260162539134 after iteration 176\n",
      "Perceptron cost 0.00258880663656 after iteration 177\n",
      "Perceptron cost 0.00257598788178 after iteration 178\n",
      "Perceptron cost 0.002563169127 after iteration 179\n",
      "Perceptron cost 0.00255035037222 after iteration 180\n",
      "Perceptron cost 0.00253753161744 after iteration 181\n",
      "Perceptron cost 0.00252587036526 after iteration 182\n",
      "Perceptron cost 0.0025147974398 after iteration 183\n",
      "Perceptron cost 0.00250197868502 after iteration 184\n",
      "Perceptron cost 0.00248915993025 after iteration 185\n",
      "Perceptron cost 0.00247634117547 after iteration 186\n",
      "Perceptron cost 0.00246352242069 after iteration 187\n",
      "Perceptron cost 0.00245070366591 after iteration 188\n",
      "Perceptron cost 0.00243788491113 after iteration 189\n",
      "Perceptron cost 0.00242506615635 after iteration 190\n",
      "Perceptron cost 0.00241224740157 after iteration 191\n",
      "Perceptron cost 0.00239942864679 after iteration 192\n",
      "Perceptron cost 0.00238660989201 after iteration 193\n",
      "Perceptron cost 0.00237379113724 after iteration 194\n",
      "Perceptron cost 0.00236097238246 after iteration 195\n",
      "Perceptron cost 0.00234815362768 after iteration 196\n",
      "Perceptron cost 0.0023353348729 after iteration 197\n",
      "Perceptron cost 0.00232251611812 after iteration 198\n",
      "Perceptron cost 0.00231198703956 after iteration 199\n",
      "Perceptron cost 0.00229978194048 after iteration 200\n",
      "Perceptron cost 0.0022869631857 after iteration 201\n",
      "Perceptron cost 0.00227414443092 after iteration 202\n",
      "Perceptron cost 0.00226132567615 after iteration 203\n",
      "Perceptron cost 0.00224850692137 after iteration 204\n",
      "Perceptron cost 0.00223568816659 after iteration 205\n",
      "Perceptron cost 0.00222286941181 after iteration 206\n",
      "Perceptron cost 0.00221005065703 after iteration 207\n",
      "Perceptron cost 0.00219723190225 after iteration 208\n",
      "Perceptron cost 0.00218441314747 after iteration 209\n",
      "Perceptron cost 0.00217159439269 after iteration 210\n",
      "Perceptron cost 0.00215877563791 after iteration 211\n",
      "Perceptron cost 0.00214595688314 after iteration 212\n",
      "Perceptron cost 0.00213313812836 after iteration 213\n",
      "Perceptron cost 0.00212031937358 after iteration 214\n",
      "Perceptron cost 0.00210801913672 after iteration 215\n",
      "Perceptron cost 0.00209758519594 after iteration 216\n",
      "Perceptron cost 0.00208476644116 after iteration 217\n",
      "Perceptron cost 0.00207194768638 after iteration 218\n",
      "Perceptron cost 0.0020591289316 after iteration 219\n",
      "Perceptron cost 0.00204631017683 after iteration 220\n",
      "Perceptron cost 0.00203349142205 after iteration 221\n",
      "Perceptron cost 0.00202067266727 after iteration 222\n",
      "Perceptron cost 0.00200785391249 after iteration 223\n",
      "Perceptron cost 0.00199503515771 after iteration 224\n",
      "Perceptron cost 0.00198221640293 after iteration 225\n",
      "Perceptron cost 0.00196939764815 after iteration 226\n",
      "Perceptron cost 0.00195657889337 after iteration 227\n",
      "Perceptron cost 0.00194376013859 after iteration 228\n",
      "Perceptron cost 0.00193094138381 after iteration 229\n",
      "Perceptron cost 0.00191812262904 after iteration 230\n",
      "Perceptron cost 0.00190530387426 after iteration 231\n",
      "Perceptron cost 0.00189413581102 after iteration 232\n",
      "Perceptron cost 0.00188256969662 after iteration 233\n",
      "Perceptron cost 0.00186975094184 after iteration 234\n",
      "Perceptron cost 0.00185693218706 after iteration 235\n",
      "Perceptron cost 0.00184411343228 after iteration 236\n",
      "Perceptron cost 0.0018312946775 after iteration 237\n",
      "Perceptron cost 0.00181847592273 after iteration 238\n",
      "Perceptron cost 0.00180565716795 after iteration 239\n",
      "Perceptron cost 0.00179283841317 after iteration 240\n",
      "Perceptron cost 0.00178001965839 after iteration 241\n",
      "Perceptron cost 0.00176720090361 after iteration 242\n",
      "Perceptron cost 0.00175438214883 after iteration 243\n",
      "Perceptron cost 0.00174156339405 after iteration 244\n",
      "Perceptron cost 0.00173066228167 after iteration 245\n",
      "Perceptron cost 0.00172164444732 after iteration 246\n",
      "Perceptron cost 0.00170882569254 after iteration 247\n",
      "Perceptron cost 0.00169600693776 after iteration 248\n",
      "Perceptron cost 0.00168318818298 after iteration 249\n",
      "Perceptron cost 0.0016703694282 after iteration 250\n",
      "Perceptron cost 0.00165755067342 after iteration 251\n",
      "Perceptron cost 0.00164473191864 after iteration 252\n",
      "Perceptron cost 0.00163191316387 after iteration 253\n",
      "Perceptron cost 0.00161909440909 after iteration 254\n",
      "Perceptron cost 0.00160627565431 after iteration 255\n",
      "Perceptron cost 0.00159345689953 after iteration 256\n",
      "Perceptron cost 0.00158063814475 after iteration 257\n",
      "Perceptron cost 0.00156781938997 after iteration 258\n",
      "Perceptron cost 0.00155500063519 after iteration 259\n",
      "Perceptron cost 0.00154218188041 after iteration 260\n",
      "Perceptron cost 0.00152936312563 after iteration 261\n",
      "Perceptron cost 0.00151883111044 after iteration 262\n",
      "Perceptron cost 0.0015094441789 after iteration 263\n",
      "Perceptron cost 0.00149662542412 after iteration 264\n",
      "Perceptron cost 0.00148380666934 after iteration 265\n",
      "Perceptron cost 0.00147098791456 after iteration 266\n",
      "Perceptron cost 0.00145816915979 after iteration 267\n",
      "Perceptron cost 0.00144535040501 after iteration 268\n",
      "Perceptron cost 0.00143253165023 after iteration 269\n",
      "Perceptron cost 0.00141971289545 after iteration 270\n",
      "Perceptron cost 0.00140689414067 after iteration 271\n",
      "Perceptron cost 0.00139407538589 after iteration 272\n",
      "Perceptron cost 0.00138125663111 after iteration 273\n",
      "Perceptron cost 0.00136843787633 after iteration 274\n",
      "Perceptron cost 0.00135561912155 after iteration 275\n",
      "Perceptron cost 0.00134280036678 after iteration 276\n",
      "Perceptron cost 0.001329981612 after iteration 277\n",
      "Perceptron cost 0.00131716285722 after iteration 278\n",
      "Perceptron cost 0.00130699993922 after iteration 279\n",
      "Perceptron cost 0.00129724391048 after iteration 280\n",
      "Perceptron cost 0.00128442515571 after iteration 281\n",
      "Perceptron cost 0.00127160640093 after iteration 282\n",
      "Perceptron cost 0.00125878764615 after iteration 283\n",
      "Perceptron cost 0.00124596889137 after iteration 284\n",
      "Perceptron cost 0.00123315013659 after iteration 285\n",
      "Perceptron cost 0.00122033138181 after iteration 286\n",
      "Perceptron cost 0.00120751262703 after iteration 287\n",
      "Perceptron cost 0.00119469387225 after iteration 288\n",
      "Perceptron cost 0.00118187511747 after iteration 289\n",
      "Perceptron cost 0.00116905636269 after iteration 290\n",
      "Perceptron cost 0.00115623760792 after iteration 291\n",
      "Perceptron cost 0.00114341885314 after iteration 292\n",
      "Perceptron cost 0.00113060009836 after iteration 293\n",
      "Perceptron cost 0.00111778134358 after iteration 294\n",
      "Perceptron cost 0.0011049625888 after iteration 295\n",
      "Perceptron cost 0.00109516876799 after iteration 296\n",
      "Perceptron cost 0.00108616911764 after iteration 297\n",
      "Perceptron cost 0.00107114373119 after iteration 298\n",
      "Perceptron cost 0.00105832497641 after iteration 299\n",
      "Perceptron cost 0.00104550622163 after iteration 300\n",
      "Perceptron cost 0.00103268746685 after iteration 301\n",
      "Perceptron cost 0.00101986871207 after iteration 302\n",
      "Perceptron cost 0.00100719654162 after iteration 303\n",
      "Perceptron cost 0.00100014812437 after iteration 304\n",
      "Perceptron cost 0.000983234623558 after iteration 305\n",
      "Perceptron cost 0.000970415868779 after iteration 306\n",
      "Perceptron cost 0.000957597114001 after iteration 307\n",
      "Perceptron cost 0.000944778359222 after iteration 308\n",
      "Perceptron cost 0.000932160604385 after iteration 309\n",
      "Perceptron cost 0.000928027041971 after iteration 310\n",
      "Perceptron cost 0.000908144270707 after iteration 311\n",
      "Perceptron cost 0.000895325515928 after iteration 312\n",
      "Perceptron cost 0.000882506761149 after iteration 313\n",
      "Perceptron cost 0.00086968800637 after iteration 314\n",
      "Perceptron cost 0.000857124667153 after iteration 315\n",
      "Perceptron cost 0.000855905959576 after iteration 316\n",
      "Perceptron cost 0.000833053917855 after iteration 317\n",
      "Perceptron cost 0.000820235163076 after iteration 318\n",
      "Perceptron cost 0.000807416408297 after iteration 319\n",
      "Perceptron cost 0.000794597653518 after iteration 320\n",
      "Perceptron cost 0.00078208872992 after iteration 321\n",
      "Perceptron cost 0.000783784877181 after iteration 322\n",
      "Converged\n"
     ]
    }
   ],
   "source": [
    "# Random initial weight vector\n",
    "w0 = numpy.random.randn(n_dim+1); w0[-1] = 0.\n",
    "w = numpy.copy(w0)\n",
    "\n",
    "# Training Parameters\n",
    "n_iter = 1000\n",
    "eta = .1     # Learning rate\n",
    "old_cost = numpy.Inf\n",
    "\n",
    "# Training\n",
    "for ni in range(n_iter):\n",
    "    pred_y = perceptron(x_train, w)    # Dimension of 'pred_y'?\n",
    "    \n",
    "    w += eta * perceptron_rule(y_train, x_train, w)  # Updating the weight vector \n",
    "    \n",
    "    cost = perceptron_dist(y_train, x_train, w, avg=True)\n",
    "    \n",
    "    print('Perceptron cost {} after iteration {}'.format(cost, ni))\n",
    "    \n",
    "    if cost < 1e-16 or cost / old_cost >= 1.:\n",
    "        print('Converged')\n",
    "        break\n",
    "    old_cost = cost"
   ]
  },
  {
   "cell_type": "code",
   "execution_count": 116,
   "metadata": {
    "collapsed": false
   },
   "outputs": [
    {
     "name": "stdout",
     "output_type": "stream",
     "text": [
      "Initial: -0.53 x_1 + 0.35 x_2 + 0.0 = 0\n",
      "Final: -0.053 x_1 + -0.044 x_2 + -0.004 = 0\n"
     ]
    }
   ],
   "source": [
    "print('Initial: {:.2} x_1 + {:.2} x_2 + {:.2} = 0'.format(*list(w0)))\n",
    "print('Final: {:.2} x_1 + {:.2} x_2 + {:.2} = 0'.format(*list(w)))"
   ]
  },
  {
   "cell_type": "markdown",
   "metadata": {},
   "source": [
    "## 4. Visualize Final Model"
   ]
  },
  {
   "cell_type": "code",
   "execution_count": 117,
   "metadata": {
    "collapsed": false
   },
   "outputs": [],
   "source": [
    "def vis_hyperplane(w, typ='k--'):\n",
    "    plot.hold('on')\n",
    "\n",
    "    lim0 = plot.gca().get_xlim()\n",
    "    lim1 = plot.gca().get_ylim()\n",
    "    m0, m1 = lim0[0], lim0[1]\n",
    "\n",
    "    intercept0 = -(w[0] * m0 + w[-1])/w[1]\n",
    "    intercept1 = -(w[0] * m1 + w[-1])/w[1]\n",
    "    \n",
    "    plt1, = plot.plot([m0, m1], [intercept0, intercept1], typ)\n",
    "\n",
    "    plot.gca().set_xlim(lim0)\n",
    "    plot.gca().set_ylim(lim1)\n",
    "    \n",
    "    plot.hold('off')\n",
    "    \n",
    "    return plt1"
   ]
  },
  {
   "cell_type": "code",
   "execution_count": 118,
   "metadata": {
    "collapsed": false,
    "scrolled": false
   },
   "outputs": [
    {
     "data": {
      "image/png": "[encoded data removed]",
      "text/plain": [
       "<matplotlib.figure.Figure at 0x7f1b54e63590>"
      ]
     },
     "metadata": {},
     "output_type": "display_data"
    },
    {
     "data": {
      "image/png": "[encoded data removed]",
      "text/plain": [
       "<matplotlib.figure.Figure at 0x7f1b5200e750>"
      ]
     },
     "metadata": {},
     "output_type": "display_data"
    }
   ],
   "source": [
    "# Decision boundary learned using training data\n",
    "\n",
    "plot.figure()\n",
    "\n",
    "vis_data(x_train, y_train)\n",
    "\n",
    "plt0 = vis_hyperplane(w0, 'k-.')\n",
    "plt1 = vis_hyperplane(w, 'k--')\n",
    "\n",
    "\n",
    "plot.legend([plt0, plt1], [\n",
    "        'Initial: {:.2} x_1 + {:.2} x_2 + {:.2} = 0'.format(*list(w0)),\n",
    "        'Final: {:.2} x_1 + {:.2} x_2 + {:.2} = 0'.format(*list(w))],\n",
    "           loc='upper right')\n",
    "\n",
    "plot.legend(fontsize = 20, loc = 'best')\n",
    "plot.title('Decision boundary learned using training data')\n",
    "plot.show()"
   ]
  },
  {
   "cell_type": "markdown",
   "metadata": {},
   "source": [
    "## 5. Testing"
   ]
  },
  {
   "cell_type": "code",
   "execution_count": 119,
   "metadata": {
    "collapsed": false
   },
   "outputs": [
    {
     "data": {
      "image/png": "[encoded data removed]",
      "text/plain": [
       "<matplotlib.figure.Figure at 0x7f1b54a57950>"
      ]
     },
     "metadata": {},
     "output_type": "display_data"
    },
    {
     "data": {
      "image/png": "[encoded data removed]",
      "text/plain": [
       "<matplotlib.figure.Figure at 0x7f1b51e0f8d0>"
      ]
     },
     "metadata": {},
     "output_type": "display_data"
    }
   ],
   "source": [
    "# Decision boundary on test data\n",
    "\n",
    "plot.figure()\n",
    "\n",
    "vis_data(x_test, y_test, 'b')\n",
    "\n",
    "plt1 = vis_hyperplane(w, 'k--')\n",
    "\n",
    "\n",
    "plot.legend([plt0, plt1], [\n",
    "        'Initial: {:.2} x_1 + {:.2} x_2 + {:.2} = 0'.format(*list(w0)),\n",
    "        'Final: {:.2} x_1 + {:.2} x_2 + {:.2} = 0'.format(*list(w))],\n",
    "           loc='upper right')\n",
    "\n",
    "plot.legend(fontsize = 20, loc = 'best')\n",
    "plot.title('Decision boundary on test data')\n",
    "plot.show()"
   ]
  },
  {
   "cell_type": "code",
   "execution_count": 120,
   "metadata": {
    "collapsed": false
   },
   "outputs": [
    {
     "name": "stdout",
     "output_type": "stream",
     "text": [
      "Training error rate 0.05, Test error rate 0.06\n"
     ]
    }
   ],
   "source": [
    "train_error = numpy.sum(numpy.abs(perceptron(x_train, w) - y_train)) / numpy.float(len(y_train))\n",
    "test_error = numpy.sum(numpy.abs(perceptron(x_test, w) - y_test)) / numpy.float(len(y_test))\n",
    "\n",
    "print('Training error rate {}, Test error rate {}'.format(train_error, test_error))"
   ]
  },
  {
   "cell_type": "markdown",
   "metadata": {},
   "source": [
    "## 6. HOMEWORK - Use scikit-learn to replicate the above operations"
   ]
  },
  {
   "cell_type": "code",
   "execution_count": 121,
   "metadata": {
    "collapsed": false
   },
   "outputs": [],
   "source": [
    "# Use this cell to import required packages of sklearn\n",
    "from sklearn.linear_model import Perceptron\n",
    "import numpy as np\n",
    "import matplotlib.pyplot as plt"
   ]
  },
  {
   "cell_type": "code",
   "execution_count": 122,
   "metadata": {
    "collapsed": false
   },
   "outputs": [],
   "source": [
    "# STEP 1: Create a Perceptron class instance\n",
    "perceptron = Perceptron(n_iter=n_iter, eta0=eta)\n"
   ]
  },
  {
   "cell_type": "code",
   "execution_count": 123,
   "metadata": {
    "collapsed": false
   },
   "outputs": [
    {
     "data": {
      "text/plain": [
       "Perceptron(alpha=0.0001, class_weight=None, eta0=0.1, fit_intercept=True,\n",
       "      n_iter=1000, n_jobs=1, penalty=None, random_state=0, shuffle=False,\n",
       "      verbose=0, warm_start=False)"
      ]
     },
     "execution_count": 123,
     "metadata": {},
     "output_type": "execute_result"
    }
   ],
   "source": [
    "# STEP 2: Fit the perceptron model to the training data\n",
    "perceptron.fit(x_train, y_train)\n"
   ]
  },
  {
   "cell_type": "code",
   "execution_count": 124,
   "metadata": {
    "collapsed": false
   },
   "outputs": [
    {
     "name": "stdout",
     "output_type": "stream",
     "text": [
      "[-0.1930383  -0.40512665  0.        ]\n",
      "[-0.0529646 -0.0438084 -0.004    ]\n"
     ]
    }
   ],
   "source": [
    "# STEP 3: Obtain the coefficients of the learned model (read the documentation to find out how)\n",
    "coeff = perceptron.coef_\n",
    "coeff = np.insert(coeff,2,perceptron.intercept_)\n",
    "print coeff\n",
    "print w"
   ]
  },
  {
   "cell_type": "code",
   "execution_count": 125,
   "metadata": {
    "collapsed": false
   },
   "outputs": [
    {
     "name": "stdout",
     "output_type": "stream",
     "text": [
      "Custom feature coefficients are -0.052965, -0.043808, -0.004000\n",
      "Sklearn feature coefficients are -0.193038, -0.405127, 0.000000\n",
      "The custom module equation is -0.05x + -0.04y + -0.00 = 0\n",
      "The sklearn module equation is -0.19x + -0.41y + 0.00 = 0\n"
     ]
    }
   ],
   "source": [
    "# STEP 4: Compare the feature coefficients obtained by sklearn and the custom module we have\n",
    "print \"Custom feature coefficients are %f, %f, %f\"%(w[0],w[1],w[2])\n",
    "print \"Sklearn feature coefficients are %f, %f, %f\"%(coeff[0],coeff[1],coeff[2])\n",
    "\n",
    "# Note: Print the equations of the model learned by both implementations and comment about what you observe.\n",
    "print \"The custom module equation is %.2fx + %.2fy + %.2f = 0\"%(w[0],w[1],w[2])\n",
    "print \"The sklearn module equation is %.2fx + %.2fy + %.2f = 0\"%(coeff[0],coeff[1],coeff[2])\n"
   ]
  },
  {
   "cell_type": "code",
   "execution_count": 126,
   "metadata": {
    "collapsed": false
   },
   "outputs": [
    {
     "name": "stdout",
     "output_type": "stream",
     "text": [
      "TRAINING SCORE IS 0.93\n",
      "TEST SCORE IS 0.93\n"
     ]
    },
    {
     "data": {
      "image/png": "[encoded data removed]",
      "text/plain": [
       "<matplotlib.figure.Figure at 0x7f1b51f2ed10>"
      ]
     },
     "metadata": {},
     "output_type": "display_data"
    }
   ],
   "source": [
    "# STEP 5: Predict the class of test data points. Print the TRAINING and TEST accuracy.\n",
    "pred = perceptron.predict(x_test)\n",
    "\n",
    "print \"TRAINING SCORE IS %.2f\"%perceptron.score(x_train, y_train)\n",
    "print \"TEST SCORE IS %.2f\"%perceptron.score(x_test, y_test)\n",
    "\n",
    "\n",
    "x = np.arange(np.amin(x_test[:,0]),np.amax(x_test[:,0]),0.001)\n",
    "sk_mod = (-coeff[0]/coeff[1])*x + (coeff[2]/coeff[1])\n",
    "cust_mod = (-w[0]/w[1])*x + (w[2]/w[1])\n",
    "plt.plot(x,sk_mod,'k--',x,cust_mod,'k-.')\n",
    "vis_data(x_test,y_test)\n"
   ]
  },
  {
   "cell_type": "code",
   "execution_count": null,
   "metadata": {
    "collapsed": true
   },
   "outputs": [],
   "source": []
  }
 ],
 "metadata": {
  "kernelspec": {
   "display_name": "Python 2",
   "language": "python",
   "name": "python2"
  },
  "language_info": {
   "codemirror_mode": {
    "name": "ipython",
    "version": 2
   },
   "file_extension": ".py",
   "mimetype": "text/x-python",
   "name": "python",
   "nbconvert_exporter": "python",
   "pygments_lexer": "ipython2",
   "version": "2.7.6"
  }
 },
 "nbformat": 4,
 "nbformat_minor": 0
}
